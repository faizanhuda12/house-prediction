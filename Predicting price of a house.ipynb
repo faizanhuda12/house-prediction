{
 "cells": [
  {
   "cell_type": "code",
   "execution_count": 9,
   "metadata": {},
   "outputs": [],
   "source": [
    "import pandas as pd\n",
    "import numpy as np\n",
    "import seaborn as sns\n",
    "import matplotlib.pyplot as plt"
   ]
  },
  {
   "cell_type": "code",
   "execution_count": 10,
   "metadata": {},
   "outputs": [
    {
     "data": {
      "text/html": [
       "<div>\n",
       "<style scoped>\n",
       "    .dataframe tbody tr th:only-of-type {\n",
       "        vertical-align: middle;\n",
       "    }\n",
       "\n",
       "    .dataframe tbody tr th {\n",
       "        vertical-align: top;\n",
       "    }\n",
       "\n",
       "    .dataframe thead th {\n",
       "        text-align: right;\n",
       "    }\n",
       "</style>\n",
       "<table border=\"1\" class=\"dataframe\">\n",
       "  <thead>\n",
       "    <tr style=\"text-align: right;\">\n",
       "      <th></th>\n",
       "      <th>date</th>\n",
       "      <th>price</th>\n",
       "      <th>bedrooms</th>\n",
       "      <th>bathrooms</th>\n",
       "      <th>sqft_living</th>\n",
       "      <th>sqft_lot</th>\n",
       "      <th>floors</th>\n",
       "      <th>waterfront</th>\n",
       "      <th>view</th>\n",
       "      <th>condition</th>\n",
       "      <th>sqft_above</th>\n",
       "      <th>sqft_basement</th>\n",
       "      <th>yr_built</th>\n",
       "      <th>yr_renovated</th>\n",
       "      <th>street</th>\n",
       "      <th>city</th>\n",
       "      <th>statezip</th>\n",
       "      <th>country</th>\n",
       "    </tr>\n",
       "  </thead>\n",
       "  <tbody>\n",
       "    <tr>\n",
       "      <th>0</th>\n",
       "      <td>2014-05-02 00:00:00</td>\n",
       "      <td>3.130000e+05</td>\n",
       "      <td>3.0</td>\n",
       "      <td>1.50</td>\n",
       "      <td>1340</td>\n",
       "      <td>7912</td>\n",
       "      <td>1.5</td>\n",
       "      <td>0</td>\n",
       "      <td>0</td>\n",
       "      <td>3</td>\n",
       "      <td>1340</td>\n",
       "      <td>0</td>\n",
       "      <td>1955</td>\n",
       "      <td>2005</td>\n",
       "      <td>18810 Densmore Ave N</td>\n",
       "      <td>Shoreline</td>\n",
       "      <td>WA 98133</td>\n",
       "      <td>USA</td>\n",
       "    </tr>\n",
       "    <tr>\n",
       "      <th>1</th>\n",
       "      <td>2014-05-02 00:00:00</td>\n",
       "      <td>2.384000e+06</td>\n",
       "      <td>5.0</td>\n",
       "      <td>2.50</td>\n",
       "      <td>3650</td>\n",
       "      <td>9050</td>\n",
       "      <td>2.0</td>\n",
       "      <td>0</td>\n",
       "      <td>4</td>\n",
       "      <td>5</td>\n",
       "      <td>3370</td>\n",
       "      <td>280</td>\n",
       "      <td>1921</td>\n",
       "      <td>0</td>\n",
       "      <td>709 W Blaine St</td>\n",
       "      <td>Seattle</td>\n",
       "      <td>WA 98119</td>\n",
       "      <td>USA</td>\n",
       "    </tr>\n",
       "    <tr>\n",
       "      <th>2</th>\n",
       "      <td>2014-05-02 00:00:00</td>\n",
       "      <td>3.420000e+05</td>\n",
       "      <td>3.0</td>\n",
       "      <td>2.00</td>\n",
       "      <td>1930</td>\n",
       "      <td>11947</td>\n",
       "      <td>1.0</td>\n",
       "      <td>0</td>\n",
       "      <td>0</td>\n",
       "      <td>4</td>\n",
       "      <td>1930</td>\n",
       "      <td>0</td>\n",
       "      <td>1966</td>\n",
       "      <td>0</td>\n",
       "      <td>26206-26214 143rd Ave SE</td>\n",
       "      <td>Kent</td>\n",
       "      <td>WA 98042</td>\n",
       "      <td>USA</td>\n",
       "    </tr>\n",
       "    <tr>\n",
       "      <th>3</th>\n",
       "      <td>2014-05-02 00:00:00</td>\n",
       "      <td>4.200000e+05</td>\n",
       "      <td>3.0</td>\n",
       "      <td>2.25</td>\n",
       "      <td>2000</td>\n",
       "      <td>8030</td>\n",
       "      <td>1.0</td>\n",
       "      <td>0</td>\n",
       "      <td>0</td>\n",
       "      <td>4</td>\n",
       "      <td>1000</td>\n",
       "      <td>1000</td>\n",
       "      <td>1963</td>\n",
       "      <td>0</td>\n",
       "      <td>857 170th Pl NE</td>\n",
       "      <td>Bellevue</td>\n",
       "      <td>WA 98008</td>\n",
       "      <td>USA</td>\n",
       "    </tr>\n",
       "    <tr>\n",
       "      <th>4</th>\n",
       "      <td>2014-05-02 00:00:00</td>\n",
       "      <td>5.500000e+05</td>\n",
       "      <td>4.0</td>\n",
       "      <td>2.50</td>\n",
       "      <td>1940</td>\n",
       "      <td>10500</td>\n",
       "      <td>1.0</td>\n",
       "      <td>0</td>\n",
       "      <td>0</td>\n",
       "      <td>4</td>\n",
       "      <td>1140</td>\n",
       "      <td>800</td>\n",
       "      <td>1976</td>\n",
       "      <td>1992</td>\n",
       "      <td>9105 170th Ave NE</td>\n",
       "      <td>Redmond</td>\n",
       "      <td>WA 98052</td>\n",
       "      <td>USA</td>\n",
       "    </tr>\n",
       "    <tr>\n",
       "      <th>...</th>\n",
       "      <td>...</td>\n",
       "      <td>...</td>\n",
       "      <td>...</td>\n",
       "      <td>...</td>\n",
       "      <td>...</td>\n",
       "      <td>...</td>\n",
       "      <td>...</td>\n",
       "      <td>...</td>\n",
       "      <td>...</td>\n",
       "      <td>...</td>\n",
       "      <td>...</td>\n",
       "      <td>...</td>\n",
       "      <td>...</td>\n",
       "      <td>...</td>\n",
       "      <td>...</td>\n",
       "      <td>...</td>\n",
       "      <td>...</td>\n",
       "      <td>...</td>\n",
       "    </tr>\n",
       "    <tr>\n",
       "      <th>4595</th>\n",
       "      <td>2014-07-09 00:00:00</td>\n",
       "      <td>3.081667e+05</td>\n",
       "      <td>3.0</td>\n",
       "      <td>1.75</td>\n",
       "      <td>1510</td>\n",
       "      <td>6360</td>\n",
       "      <td>1.0</td>\n",
       "      <td>0</td>\n",
       "      <td>0</td>\n",
       "      <td>4</td>\n",
       "      <td>1510</td>\n",
       "      <td>0</td>\n",
       "      <td>1954</td>\n",
       "      <td>1979</td>\n",
       "      <td>501 N 143rd St</td>\n",
       "      <td>Seattle</td>\n",
       "      <td>WA 98133</td>\n",
       "      <td>USA</td>\n",
       "    </tr>\n",
       "    <tr>\n",
       "      <th>4596</th>\n",
       "      <td>2014-07-09 00:00:00</td>\n",
       "      <td>5.343333e+05</td>\n",
       "      <td>3.0</td>\n",
       "      <td>2.50</td>\n",
       "      <td>1460</td>\n",
       "      <td>7573</td>\n",
       "      <td>2.0</td>\n",
       "      <td>0</td>\n",
       "      <td>0</td>\n",
       "      <td>3</td>\n",
       "      <td>1460</td>\n",
       "      <td>0</td>\n",
       "      <td>1983</td>\n",
       "      <td>2009</td>\n",
       "      <td>14855 SE 10th Pl</td>\n",
       "      <td>Bellevue</td>\n",
       "      <td>WA 98007</td>\n",
       "      <td>USA</td>\n",
       "    </tr>\n",
       "    <tr>\n",
       "      <th>4597</th>\n",
       "      <td>2014-07-09 00:00:00</td>\n",
       "      <td>4.169042e+05</td>\n",
       "      <td>3.0</td>\n",
       "      <td>2.50</td>\n",
       "      <td>3010</td>\n",
       "      <td>7014</td>\n",
       "      <td>2.0</td>\n",
       "      <td>0</td>\n",
       "      <td>0</td>\n",
       "      <td>3</td>\n",
       "      <td>3010</td>\n",
       "      <td>0</td>\n",
       "      <td>2009</td>\n",
       "      <td>0</td>\n",
       "      <td>759 Ilwaco Pl NE</td>\n",
       "      <td>Renton</td>\n",
       "      <td>WA 98059</td>\n",
       "      <td>USA</td>\n",
       "    </tr>\n",
       "    <tr>\n",
       "      <th>4598</th>\n",
       "      <td>2014-07-10 00:00:00</td>\n",
       "      <td>2.034000e+05</td>\n",
       "      <td>4.0</td>\n",
       "      <td>2.00</td>\n",
       "      <td>2090</td>\n",
       "      <td>6630</td>\n",
       "      <td>1.0</td>\n",
       "      <td>0</td>\n",
       "      <td>0</td>\n",
       "      <td>3</td>\n",
       "      <td>1070</td>\n",
       "      <td>1020</td>\n",
       "      <td>1974</td>\n",
       "      <td>0</td>\n",
       "      <td>5148 S Creston St</td>\n",
       "      <td>Seattle</td>\n",
       "      <td>WA 98178</td>\n",
       "      <td>USA</td>\n",
       "    </tr>\n",
       "    <tr>\n",
       "      <th>4599</th>\n",
       "      <td>2014-07-10 00:00:00</td>\n",
       "      <td>2.206000e+05</td>\n",
       "      <td>3.0</td>\n",
       "      <td>2.50</td>\n",
       "      <td>1490</td>\n",
       "      <td>8102</td>\n",
       "      <td>2.0</td>\n",
       "      <td>0</td>\n",
       "      <td>0</td>\n",
       "      <td>4</td>\n",
       "      <td>1490</td>\n",
       "      <td>0</td>\n",
       "      <td>1990</td>\n",
       "      <td>0</td>\n",
       "      <td>18717 SE 258th St</td>\n",
       "      <td>Covington</td>\n",
       "      <td>WA 98042</td>\n",
       "      <td>USA</td>\n",
       "    </tr>\n",
       "  </tbody>\n",
       "</table>\n",
       "<p>4600 rows × 18 columns</p>\n",
       "</div>"
      ],
      "text/plain": [
       "                     date         price  bedrooms  bathrooms  sqft_living  \\\n",
       "0     2014-05-02 00:00:00  3.130000e+05       3.0       1.50         1340   \n",
       "1     2014-05-02 00:00:00  2.384000e+06       5.0       2.50         3650   \n",
       "2     2014-05-02 00:00:00  3.420000e+05       3.0       2.00         1930   \n",
       "3     2014-05-02 00:00:00  4.200000e+05       3.0       2.25         2000   \n",
       "4     2014-05-02 00:00:00  5.500000e+05       4.0       2.50         1940   \n",
       "...                   ...           ...       ...        ...          ...   \n",
       "4595  2014-07-09 00:00:00  3.081667e+05       3.0       1.75         1510   \n",
       "4596  2014-07-09 00:00:00  5.343333e+05       3.0       2.50         1460   \n",
       "4597  2014-07-09 00:00:00  4.169042e+05       3.0       2.50         3010   \n",
       "4598  2014-07-10 00:00:00  2.034000e+05       4.0       2.00         2090   \n",
       "4599  2014-07-10 00:00:00  2.206000e+05       3.0       2.50         1490   \n",
       "\n",
       "      sqft_lot  floors  waterfront  view  condition  sqft_above  \\\n",
       "0         7912     1.5           0     0          3        1340   \n",
       "1         9050     2.0           0     4          5        3370   \n",
       "2        11947     1.0           0     0          4        1930   \n",
       "3         8030     1.0           0     0          4        1000   \n",
       "4        10500     1.0           0     0          4        1140   \n",
       "...        ...     ...         ...   ...        ...         ...   \n",
       "4595      6360     1.0           0     0          4        1510   \n",
       "4596      7573     2.0           0     0          3        1460   \n",
       "4597      7014     2.0           0     0          3        3010   \n",
       "4598      6630     1.0           0     0          3        1070   \n",
       "4599      8102     2.0           0     0          4        1490   \n",
       "\n",
       "      sqft_basement  yr_built  yr_renovated                    street  \\\n",
       "0                 0      1955          2005      18810 Densmore Ave N   \n",
       "1               280      1921             0           709 W Blaine St   \n",
       "2                 0      1966             0  26206-26214 143rd Ave SE   \n",
       "3              1000      1963             0           857 170th Pl NE   \n",
       "4               800      1976          1992         9105 170th Ave NE   \n",
       "...             ...       ...           ...                       ...   \n",
       "4595              0      1954          1979            501 N 143rd St   \n",
       "4596              0      1983          2009          14855 SE 10th Pl   \n",
       "4597              0      2009             0          759 Ilwaco Pl NE   \n",
       "4598           1020      1974             0         5148 S Creston St   \n",
       "4599              0      1990             0         18717 SE 258th St   \n",
       "\n",
       "           city  statezip country  \n",
       "0     Shoreline  WA 98133     USA  \n",
       "1       Seattle  WA 98119     USA  \n",
       "2          Kent  WA 98042     USA  \n",
       "3      Bellevue  WA 98008     USA  \n",
       "4       Redmond  WA 98052     USA  \n",
       "...         ...       ...     ...  \n",
       "4595    Seattle  WA 98133     USA  \n",
       "4596   Bellevue  WA 98007     USA  \n",
       "4597     Renton  WA 98059     USA  \n",
       "4598    Seattle  WA 98178     USA  \n",
       "4599  Covington  WA 98042     USA  \n",
       "\n",
       "[4600 rows x 18 columns]"
      ]
     },
     "execution_count": 10,
     "metadata": {},
     "output_type": "execute_result"
    }
   ],
   "source": [
    "data = pd.read_csv(\"data.csv\")\n",
    "data"
   ]
  },
  {
   "cell_type": "code",
   "execution_count": 11,
   "metadata": {},
   "outputs": [
    {
     "data": {
      "text/plain": [
       "(4600, 18)"
      ]
     },
     "execution_count": 11,
     "metadata": {},
     "output_type": "execute_result"
    }
   ],
   "source": [
    "data.shape"
   ]
  },
  {
   "cell_type": "markdown",
   "metadata": {},
   "source": [
    "OK, so the first number tells us the number of rows (the number of houses) and the second one is the number of columns (the number of features).\n",
    "\n",
    "We have 4600 houses in the dataset and 18 features, including price. Therefore, we can choose between 17 different features that influence the price of a house. Let's check these out."
   ]
  },
  {
   "cell_type": "code",
   "execution_count": 12,
   "metadata": {},
   "outputs": [
    {
     "data": {
      "text/plain": [
       "date              object\n",
       "price            float64\n",
       "bedrooms         float64\n",
       "bathrooms        float64\n",
       "sqft_living        int64\n",
       "sqft_lot           int64\n",
       "floors           float64\n",
       "waterfront         int64\n",
       "view               int64\n",
       "condition          int64\n",
       "sqft_above         int64\n",
       "sqft_basement      int64\n",
       "yr_built           int64\n",
       "yr_renovated       int64\n",
       "street            object\n",
       "city              object\n",
       "statezip          object\n",
       "country           object\n",
       "dtype: object"
      ]
     },
     "execution_count": 12,
     "metadata": {},
     "output_type": "execute_result"
    }
   ],
   "source": [
    "data.dtypes"
   ]
  },
  {
   "cell_type": "markdown",
   "metadata": {},
   "source": [
    "We have a nice list of all the features, some being *categorical variables* (object types), like the country of the house and some being *measures* (float64 or int64 types) like the surface of the basement.\n",
    "\n",
    "Just curious, what country are these houses in?"
   ]
  },
  {
   "cell_type": "code",
   "execution_count": 13,
   "metadata": {
    "scrolled": true
   },
   "outputs": [
    {
     "data": {
      "text/plain": [
       "USA    4600\n",
       "Name: country, dtype: int64"
      ]
     },
     "execution_count": 13,
     "metadata": {},
     "output_type": "execute_result"
    }
   ],
   "source": [
    "data.country.value_counts()"
   ]
  },
  {
   "cell_type": "markdown",
   "metadata": {},
   "source": [
    "Interesting. What state ?\n"
   ]
  },
  {
   "cell_type": "code",
   "execution_count": 14,
   "metadata": {},
   "outputs": [
    {
     "data": {
      "text/plain": [
       "WA 98103    148\n",
       "WA 98052    135\n",
       "WA 98117    132\n",
       "WA 98115    130\n",
       "WA 98006    110\n",
       "           ... \n",
       "WA 98047      6\n",
       "WA 98288      3\n",
       "WA 98354      2\n",
       "WA 98050      2\n",
       "WA 98068      1\n",
       "Name: statezip, Length: 77, dtype: int64"
      ]
     },
     "execution_count": 14,
     "metadata": {},
     "output_type": "execute_result"
    }
   ],
   "source": [
    "data.statezip.value_counts()"
   ]
  },
  {
   "cell_type": "markdown",
   "metadata": {},
   "source": [
    "Alright, so all of the houses are located in the state of Washington (Pacific Northwest, where Seattle is). This might serve us for later.\n",
    "\n",
    "To me the first feature of a house that stands out is the number of bedrooms. Bigger houses have more bedrooms and thus command a higher price. Let's look at that relationship.\n"
   ]
  },
  {
   "cell_type": "code",
   "execution_count": 16,
   "metadata": {},
   "outputs": [
    {
     "name": "stderr",
     "output_type": "stream",
     "text": [
      "/home/osboxes/miniconda3/lib/python3.8/site-packages/seaborn/_decorators.py:36: FutureWarning: Pass the following variable as a keyword arg: x. From version 0.12, the only valid positional argument will be `data`, and passing other arguments without an explicit keyword will result in an error or misinterpretation.\n",
      "  warnings.warn(\n"
     ]
    },
    {
     "data": {
      "text/plain": [
       "<AxesSubplot:xlabel='bedrooms', ylabel='price'>"
      ]
     },
     "execution_count": 16,
     "metadata": {},
     "output_type": "execute_result"
    },
    {
     "data": {
      "image/png": "[encoded data removed]",
      "text/plain": [
       "<Figure size 720x432 with 1 Axes>"
      ]
     },
     "metadata": {
      "needs_background": "light"
     },
     "output_type": "display_data"
    }
   ],
   "source": [
    "#get the average price for houses along their number of bedrooms:\n",
    "plt.figure(figsize=(10,6))\n",
    "sns.barplot(data.bedrooms, y=data['price'])"
   ]
  },
  {
   "cell_type": "markdown",
   "metadata": {},
   "source": [
    "OK something strange here. There is clearly a relationship between the number of bedrooms and the average price of a house. However, seems that a house with 9 bedrooms (!) sells for less than a house with 4 bedrooms...\n",
    "\n",
    "Also, some houses don't have any rooms?\n",
    "\n",
    "Let's look at this in more detail.\n"
   ]
  },
  {
   "cell_type": "code",
   "execution_count": 17,
   "metadata": {},
   "outputs": [],
   "source": [
    "# get a price breakdown for each bedroom group\n",
    "bybedroom = data.groupby(['bedrooms']).price.agg([len, min, max])"
   ]
  },
  {
   "cell_type": "code",
   "execution_count": 18,
   "metadata": {},
   "outputs": [
    {
     "data": {
      "text/html": [
       "<div>\n",
       "<style scoped>\n",
       "    .dataframe tbody tr th:only-of-type {\n",
       "        vertical-align: middle;\n",
       "    }\n",
       "\n",
       "    .dataframe tbody tr th {\n",
       "        vertical-align: top;\n",
       "    }\n",
       "\n",
       "    .dataframe thead th {\n",
       "        text-align: right;\n",
       "    }\n",
       "</style>\n",
       "<table border=\"1\" class=\"dataframe\">\n",
       "  <thead>\n",
       "    <tr style=\"text-align: right;\">\n",
       "      <th></th>\n",
       "      <th>len</th>\n",
       "      <th>min</th>\n",
       "      <th>max</th>\n",
       "    </tr>\n",
       "    <tr>\n",
       "      <th>bedrooms</th>\n",
       "      <th></th>\n",
       "      <th></th>\n",
       "      <th></th>\n",
       "    </tr>\n",
       "  </thead>\n",
       "  <tbody>\n",
       "    <tr>\n",
       "      <th>0.0</th>\n",
       "      <td>2.0</td>\n",
       "      <td>1095000.0</td>\n",
       "      <td>1295648.0</td>\n",
       "    </tr>\n",
       "    <tr>\n",
       "      <th>1.0</th>\n",
       "      <td>38.0</td>\n",
       "      <td>0.0</td>\n",
       "      <td>540000.0</td>\n",
       "    </tr>\n",
       "    <tr>\n",
       "      <th>2.0</th>\n",
       "      <td>566.0</td>\n",
       "      <td>0.0</td>\n",
       "      <td>1695000.0</td>\n",
       "    </tr>\n",
       "    <tr>\n",
       "      <th>3.0</th>\n",
       "      <td>2032.0</td>\n",
       "      <td>0.0</td>\n",
       "      <td>26590000.0</td>\n",
       "    </tr>\n",
       "    <tr>\n",
       "      <th>4.0</th>\n",
       "      <td>1531.0</td>\n",
       "      <td>0.0</td>\n",
       "      <td>4489000.0</td>\n",
       "    </tr>\n",
       "    <tr>\n",
       "      <th>5.0</th>\n",
       "      <td>353.0</td>\n",
       "      <td>0.0</td>\n",
       "      <td>7062500.0</td>\n",
       "    </tr>\n",
       "    <tr>\n",
       "      <th>6.0</th>\n",
       "      <td>61.0</td>\n",
       "      <td>0.0</td>\n",
       "      <td>3100000.0</td>\n",
       "    </tr>\n",
       "    <tr>\n",
       "      <th>7.0</th>\n",
       "      <td>14.0</td>\n",
       "      <td>280000.0</td>\n",
       "      <td>3200000.0</td>\n",
       "    </tr>\n",
       "    <tr>\n",
       "      <th>8.0</th>\n",
       "      <td>2.0</td>\n",
       "      <td>340000.0</td>\n",
       "      <td>1970000.0</td>\n",
       "    </tr>\n",
       "    <tr>\n",
       "      <th>9.0</th>\n",
       "      <td>1.0</td>\n",
       "      <td>599999.0</td>\n",
       "      <td>599999.0</td>\n",
       "    </tr>\n",
       "  </tbody>\n",
       "</table>\n",
       "</div>"
      ],
      "text/plain": [
       "             len        min         max\n",
       "bedrooms                               \n",
       "0.0          2.0  1095000.0   1295648.0\n",
       "1.0         38.0        0.0    540000.0\n",
       "2.0        566.0        0.0   1695000.0\n",
       "3.0       2032.0        0.0  26590000.0\n",
       "4.0       1531.0        0.0   4489000.0\n",
       "5.0        353.0        0.0   7062500.0\n",
       "6.0         61.0        0.0   3100000.0\n",
       "7.0         14.0   280000.0   3200000.0\n",
       "8.0          2.0   340000.0   1970000.0\n",
       "9.0          1.0   599999.0    599999.0"
      ]
     },
     "execution_count": 18,
     "metadata": {},
     "output_type": "execute_result"
    }
   ],
   "source": [
    "#problem #1 and #2 - 2 houses with 0 bedrooms, giant outlier at 3 bedrooms\n",
    "bybedroom"
   ]
  },
  {
   "cell_type": "markdown",
   "metadata": {},
   "source": [
    "The table above provides an explanation for the price discrepancy we have seen. There is only one house with 9 bedrooms! This may be a house located far from the city, or the owner might have needed to sell it in a hurry. Whatever the circumstances, 1 house is not big enough a sample. We'll need to do something if we want to use the number of bedrooms as a predictor in our model.\n",
    "\n",
    "The table above also highlighted 2 other problems with the data.\n",
    "\n",
    "    Two houses have no bedroom!\n",
    "    Some houses have a price of zero\n",
    "\n",
    "Let's look at this last problem in more detail.\n"
   ]
  },
  {
   "cell_type": "code",
   "execution_count": 19,
   "metadata": {},
   "outputs": [
    {
     "name": "stdout",
     "output_type": "stream",
     "text": [
      "There are 49 houses without a price\n"
     ]
    }
   ],
   "source": [
    "# problem #3 - houses with null prices\n",
    "houses_zero= data[data.price==0]\n",
    "print('There are '+str(len(houses_zero))+' houses without a price')"
   ]
  },
  {
   "cell_type": "markdown",
   "metadata": {},
   "source": [
    "Out of 4600 houses in the sample, 49 don't have a price. It's not a lot, but this might confuse the model.\n",
    "\n",
    "We're almost done with exploring the features. Let's look at the price distribution.\n"
   ]
  },
  {
   "cell_type": "code",
   "execution_count": 23,
   "metadata": {},
   "outputs": [
    {
     "name": "stderr",
     "output_type": "stream",
     "text": [
      "/home/osboxes/miniconda3/lib/python3.8/site-packages/seaborn/distributions.py:2551: FutureWarning: `distplot` is a deprecated function and will be removed in a future version. Please adapt your code to use either `displot` (a figure-level function with similar flexibility) or `histplot` (an axes-level function for histograms).\n",
      "  warnings.warn(msg, FutureWarning)\n"
     ]
    },
    {
     "data": {
      "text/plain": [
       "<AxesSubplot:xlabel='price', ylabel='Density'>"
      ]
     },
     "execution_count": 23,
     "metadata": {},
     "output_type": "execute_result"
    },
    {
     "data": {
      "image/png": "[encoded data removed]",
      "text/plain": [
       "<Figure size 432x288 with 1 Axes>"
      ]
     },
     "metadata": {
      "needs_background": "light"
     },
     "output_type": "display_data"
    }
   ],
   "source": [
    "# problem #4 - house prices are not normal\n",
    "sns.distplot(data['price'])"
   ]
  },
  {
   "cell_type": "markdown",
   "metadata": {},
   "source": [
    "The price distribution is in blue. Clearly, houses prices are not normal. This is not a problem per se, rather something to keep in mind.\n",
    "\n",
    "So, to recap, we have 3 problems :\n",
    "\n",
    "    Houses with 0 bedroom\n",
    "    Giant outlier at almost $27M - 50 times the price of a normal house\n",
    "    49 houses without a price\n",
    "\n",
    "We'll take the easy way out - remove them from our analysis.\n"
   ]
  },
  {
   "cell_type": "code",
   "execution_count": 24,
   "metadata": {},
   "outputs": [],
   "source": [
    "# new dataframe without problem #1 #2 #3\n",
    "houses_o = data[(data.price<2.5*10**7) & (data.bedrooms>0) & (data.price>0)].copy()"
   ]
  },
  {
   "cell_type": "markdown",
   "metadata": {},
   "source": [
    "Now, there is one other potential problem with our data. There are too few houses with more than 6 bedrooms. This is a problem if we want to use the number of bedrooms as a predictor of house price.\n",
    "\n",
    "To fix this, we can simply group the houses with 7, 8 and 9 bedrooms with the houses featuring 6 bedrooms.\n"
   ]
  },
  {
   "cell_type": "code",
   "execution_count": 26,
   "metadata": {},
   "outputs": [],
   "source": [
    "#recode houses with more than 6 bedrooms as 6 bedrooms\n",
    "houses_o['bedrooms_recoded'] = houses_o['bedrooms'].replace([7,8,9],6)"
   ]
  },
  {
   "cell_type": "code",
   "execution_count": 27,
   "metadata": {},
   "outputs": [],
   "source": [
    "houses_o['renovated_0_1'] = houses_o['yr_renovated']/houses_o['yr_renovated']\n",
    "houses_o['renovated_0_1'] = houses_o['renovated_0_1'].fillna(0)"
   ]
  },
  {
   "cell_type": "markdown",
   "metadata": {},
   "source": [
    "OK we're done with the recoding. Let's get a nice Pearson correlation matrix going on"
   ]
  },
  {
   "cell_type": "code",
   "execution_count": 29,
   "metadata": {},
   "outputs": [
    {
     "data": {
      "image/png": "[encoded data removed]",
      "text/plain": [
       "<Figure size 1152x864 with 2 Axes>"
      ]
     },
     "metadata": {
      "needs_background": "light"
     },
     "output_type": "display_data"
    }
   ],
   "source": [
    "features = ['price','bedrooms', 'bathrooms', 'sqft_living', 'sqft_lot',\n",
    "       'floors', 'waterfront', 'view', 'condition', 'sqft_above',\n",
    "       'sqft_basement', 'yr_built', 'yr_renovated']\n",
    "mask = np.zeros_like(houses_o[features].corr(), dtype=np.bool) \n",
    "mask[np.triu_indices_from(mask)] = True \n",
    "\n",
    "f, ax = plt.subplots(figsize=(16, 12))\n",
    "plt.title('Pearson Correlation Matrix',fontsize=25)\n",
    "\n",
    "sns.heatmap(houses_o[features].corr(),linewidths=0.25,vmax=0.7,square=True,cmap=\"BuGn\", #\"BuGn_r\" to reverse \n",
    "            linecolor='w',annot=True,annot_kws={\"size\":8},mask=mask,cbar_kws={\"shrink\": .9});"
   ]
  },
  {
   "cell_type": "markdown",
   "metadata": {},
   "source": [
    "Making a Machine Learning Model"
   ]
  },
  {
   "cell_type": "code",
   "execution_count": 31,
   "metadata": {},
   "outputs": [],
   "source": [
    "data= data.dropna(axis=0) #dropping missing values"
   ]
  },
  {
   "cell_type": "code",
   "execution_count": 32,
   "metadata": {},
   "outputs": [],
   "source": [
    "y=data['price']"
   ]
  },
  {
   "cell_type": "code",
   "execution_count": 33,
   "metadata": {},
   "outputs": [],
   "source": [
    "housefeatures = ['floors','sqft_living','sqft_lot','bedrooms','bathrooms', 'yr_built']"
   ]
  },
  {
   "cell_type": "code",
   "execution_count": 34,
   "metadata": {},
   "outputs": [],
   "source": [
    " X = data[housefeatures]"
   ]
  },
  {
   "cell_type": "code",
   "execution_count": 35,
   "metadata": {},
   "outputs": [
    {
     "data": {
      "text/html": [
       "<div>\n",
       "<style scoped>\n",
       "    .dataframe tbody tr th:only-of-type {\n",
       "        vertical-align: middle;\n",
       "    }\n",
       "\n",
       "    .dataframe tbody tr th {\n",
       "        vertical-align: top;\n",
       "    }\n",
       "\n",
       "    .dataframe thead th {\n",
       "        text-align: right;\n",
       "    }\n",
       "</style>\n",
       "<table border=\"1\" class=\"dataframe\">\n",
       "  <thead>\n",
       "    <tr style=\"text-align: right;\">\n",
       "      <th></th>\n",
       "      <th>floors</th>\n",
       "      <th>sqft_living</th>\n",
       "      <th>sqft_lot</th>\n",
       "      <th>bedrooms</th>\n",
       "      <th>bathrooms</th>\n",
       "      <th>yr_built</th>\n",
       "    </tr>\n",
       "  </thead>\n",
       "  <tbody>\n",
       "    <tr>\n",
       "      <th>0</th>\n",
       "      <td>1.5</td>\n",
       "      <td>1340</td>\n",
       "      <td>7912</td>\n",
       "      <td>3.0</td>\n",
       "      <td>1.50</td>\n",
       "      <td>1955</td>\n",
       "    </tr>\n",
       "    <tr>\n",
       "      <th>1</th>\n",
       "      <td>2.0</td>\n",
       "      <td>3650</td>\n",
       "      <td>9050</td>\n",
       "      <td>5.0</td>\n",
       "      <td>2.50</td>\n",
       "      <td>1921</td>\n",
       "    </tr>\n",
       "    <tr>\n",
       "      <th>2</th>\n",
       "      <td>1.0</td>\n",
       "      <td>1930</td>\n",
       "      <td>11947</td>\n",
       "      <td>3.0</td>\n",
       "      <td>2.00</td>\n",
       "      <td>1966</td>\n",
       "    </tr>\n",
       "    <tr>\n",
       "      <th>3</th>\n",
       "      <td>1.0</td>\n",
       "      <td>2000</td>\n",
       "      <td>8030</td>\n",
       "      <td>3.0</td>\n",
       "      <td>2.25</td>\n",
       "      <td>1963</td>\n",
       "    </tr>\n",
       "    <tr>\n",
       "      <th>4</th>\n",
       "      <td>1.0</td>\n",
       "      <td>1940</td>\n",
       "      <td>10500</td>\n",
       "      <td>4.0</td>\n",
       "      <td>2.50</td>\n",
       "      <td>1976</td>\n",
       "    </tr>\n",
       "  </tbody>\n",
       "</table>\n",
       "</div>"
      ],
      "text/plain": [
       "   floors  sqft_living  sqft_lot  bedrooms  bathrooms  yr_built\n",
       "0     1.5         1340      7912       3.0       1.50      1955\n",
       "1     2.0         3650      9050       5.0       2.50      1921\n",
       "2     1.0         1930     11947       3.0       2.00      1966\n",
       "3     1.0         2000      8030       3.0       2.25      1963\n",
       "4     1.0         1940     10500       4.0       2.50      1976"
      ]
     },
     "execution_count": 35,
     "metadata": {},
     "output_type": "execute_result"
    }
   ],
   "source": [
    " X.head()"
   ]
  },
  {
   "cell_type": "code",
   "execution_count": 36,
   "metadata": {},
   "outputs": [
    {
     "data": {
      "text/plain": [
       "0.030078480258443285"
      ]
     },
     "execution_count": 36,
     "metadata": {},
     "output_type": "execute_result"
    }
   ],
   "source": [
    " #Lets try ridge regression model\n",
    "from sklearn.linear_model import Ridge\n",
    "from sklearn.model_selection import train_test_split\n",
    "\n",
    "#setup random seed\n",
    "np.random.seed(42)\n",
    "\n",
    "#split data into train and test\n",
    "X_train, X_test, y_train, y_test = train_test_split(X,y, test_size=0.2)\n",
    "\n",
    "#Instaniate ridge model\n",
    "model = Ridge()\n",
    "model.fit(X_train, y_train)\n",
    "\n",
    "#check the score of the ridge model on test data\n",
    "model.score(X_test, y_test)"
   ]
  },
  {
   "cell_type": "code",
   "execution_count": 37,
   "metadata": {},
   "outputs": [
    {
     "data": {
      "text/plain": [
       "0.02175959451027154"
      ]
     },
     "execution_count": 37,
     "metadata": {},
     "output_type": "execute_result"
    }
   ],
   "source": [
    "#Lets try random forest regressor\n",
    "from sklearn.ensemble import RandomForestRegressor\n",
    "\n",
    "#setup random seed\n",
    "np.random.seed(42)\n",
    "\n",
    "#split data into train and test\n",
    "X_train, X_test, y_train, y_test = train_test_split(X,y, test_size=0.2)\n",
    "\n",
    "#Instaniate ridge model\n",
    "model = RandomForestRegressor(n_estimators=100)\n",
    "model.fit(X_train, y_train)\n",
    "\n",
    "#check the score of the ridge model on test data\n",
    "model.score(X_test, y_test)\n"
   ]
  },
  {
   "cell_type": "code",
   "execution_count": 38,
   "metadata": {},
   "outputs": [
    {
     "data": {
      "text/plain": [
       "0.03007565959924241"
      ]
     },
     "execution_count": 38,
     "metadata": {},
     "output_type": "execute_result"
    }
   ],
   "source": [
    "from sklearn.linear_model import LinearRegression\n",
    "\n",
    "#setup random seed\n",
    "np.random.seed(42)\n",
    "\n",
    "#split data into train and test\n",
    "X_train, X_test, y_train, y_test = train_test_split(X,y, test_size=0.2)\n",
    "\n",
    "#Instaniate ridge model\n",
    "model =  LinearRegression()\n",
    "model.fit(X_train, y_train)\n",
    "\n",
    "#check the score of the ridge model on test data\n",
    "model.score(X_test, y_test)"
   ]
  },
  {
   "cell_type": "code",
   "execution_count": 39,
   "metadata": {},
   "outputs": [
    {
     "data": {
      "text/plain": [
       "0.03007565959924241"
      ]
     },
     "execution_count": 39,
     "metadata": {},
     "output_type": "execute_result"
    }
   ],
   "source": [
    "from sklearn.tree import DecisionTreeRegressor\n",
    "\n",
    "np.random.seed(42)\n",
    "\n",
    "#split data into train and test\n",
    "X_train, X_test, y_train, y_test = train_test_split(X,y, test_size=0.2)\n",
    "\n",
    "#Instaniate ridge model\n",
    "DecisionTreeRegressor(random_state=1)\n",
    "model.fit(X_train, y_train)\n",
    "\n",
    "#check the score of the ridge model on test data\n",
    "model.score(X_test, y_test)"
   ]
  },
  {
   "cell_type": "code",
   "execution_count": 40,
   "metadata": {},
   "outputs": [],
   "source": [
    "from sklearn.preprocessing import StandardScaler\n",
    "scaler = StandardScaler()\n",
    "scaler.fit(X_train)  # Don't cheat - fit only on training data\n",
    "X_train = scaler.transform(X_train)\n",
    "X_test = scaler.transform(X_test)  # apply same transformation to test data"
   ]
  },
  {
   "cell_type": "code",
   "execution_count": 41,
   "metadata": {},
   "outputs": [
    {
     "data": {
      "text/plain": [
       "0.033488993252513755"
      ]
     },
     "execution_count": 41,
     "metadata": {},
     "output_type": "execute_result"
    }
   ],
   "source": [
    "from sklearn.linear_model import SGDRegressor\n",
    "\n",
    "#split data into train and test\n",
    "X_train, X_test, y_train, y_test = train_test_split(X,y, test_size=0.2)\n",
    "\n",
    "#Instaniate ridge model\n",
    "SGDRegressor(random_state=300)\n",
    "model.fit(X_train, y_train)\n",
    "\n",
    "#check the score of the ridge model on test data\n",
    "model.score(X_test, y_test)"
   ]
  },
  {
   "cell_type": "code",
   "execution_count": 42,
   "metadata": {},
   "outputs": [
    {
     "name": "stdout",
     "output_type": "stream",
     "text": [
      "Making predictions for the following 5 houses:\n",
      "   floors  sqft_living  sqft_lot  bedrooms  bathrooms  yr_built\n",
      "0     1.5         1340      7912       3.0       1.50      1955\n",
      "1     2.0         3650      9050       5.0       2.50      1921\n",
      "2     1.0         1930     11947       3.0       2.00      1966\n",
      "3     1.0         2000      8030       3.0       2.25      1963\n",
      "4     1.0         1940     10500       4.0       2.50      1976\n",
      "The predictions are\n",
      "[ 362395.39856476 1086195.00179088  495371.76767894  541608.38832309\n",
      "  423873.85635017  300320.35681333  370422.70808761  641672.76168799\n",
      "  548716.32838071  405275.91373977  479565.30343887  958150.53575426\n",
      "  551565.46881086  237145.04998325  797874.27555165  260840.65982629\n",
      "  400174.79841493  780532.89462551  255537.0244635   196485.29130206\n",
      "  766613.15076921  274114.308792    419076.91077831  658843.45150001\n",
      "  343091.46560774  501473.24823219  669334.37730801  693834.29767161\n",
      "  612645.10062056  771130.65401057]\n"
     ]
    }
   ],
   "source": [
    "print(\"Making predictions for the following 5 houses:\")\n",
    "print(X.head())\n",
    "print(\"The predictions are\")\n",
    "print(model.predict(X.head(30)))"
   ]
  },
  {
   "cell_type": "code",
   "execution_count": 43,
   "metadata": {},
   "outputs": [
    {
     "name": "stdout",
     "output_type": "stream",
     "text": [
      "[362395.39856476]\n"
     ]
    }
   ],
   "source": [
    "print(model.predict(X.head(1)))"
   ]
  },
  {
   "cell_type": "code",
   "execution_count": null,
   "metadata": {},
   "outputs": [],
   "source": [
    "data.head(1)"
   ]
  }
 ],
 "metadata": {
  "kernelspec": {
   "display_name": "Python 3",
   "language": "python",
   "name": "python3"
  },
  "language_info": {
   "codemirror_mode": {
    "name": "ipython",
    "version": 3
   },
   "file_extension": ".py",
   "mimetype": "text/x-python",
   "name": "python",
   "nbconvert_exporter": "python",
   "pygments_lexer": "ipython3",
   "version": "3.8.3"
  }
 },
 "nbformat": 4,
 "nbformat_minor": 4
}
